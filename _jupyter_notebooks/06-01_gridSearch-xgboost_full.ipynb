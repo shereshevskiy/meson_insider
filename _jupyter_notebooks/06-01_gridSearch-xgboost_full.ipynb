{
 "cells": [
  {
   "cell_type": "markdown",
   "id": "sapphire-motorcycle",
   "metadata": {},
   "source": [
    "# <center>Xgboost GridSearch"
   ]
  },
  {
   "cell_type": "code",
   "execution_count": 1,
   "id": "vulnerable-candle",
   "metadata": {},
   "outputs": [],
   "source": [
    "import os\n",
    "os.chdir(\"..\")\n",
    "\n",
    "%load_ext autoreload\n",
    "%autoreload 2"
   ]
  },
  {
   "cell_type": "code",
   "execution_count": 2,
   "id": "distant-density",
   "metadata": {},
   "outputs": [],
   "source": [
    "from pathlib import Path\n",
    "import pandas as pd\n",
    "import numpy as np\n",
    "import seaborn as sns\n",
    "import matplotlib.pyplot as plt\n",
    "\n",
    "from datetime import timedelta"
   ]
  },
  {
   "cell_type": "code",
   "execution_count": 3,
   "id": "agricultural-accordance",
   "metadata": {},
   "outputs": [],
   "source": [
    "# import warnings\n",
    "# warnings.simplefilter('ignore')\n",
    "\n",
    "pd.set_option('display.max_columns', 500)"
   ]
  },
  {
   "cell_type": "code",
   "execution_count": 4,
   "id": "alive-equity",
   "metadata": {},
   "outputs": [],
   "source": [
    "data_path = Path(\"data\")\n",
    "model_path = Path(\"model_data\")"
   ]
  },
  {
   "cell_type": "markdown",
   "id": "legal-identity",
   "metadata": {},
   "source": [
    "### data"
   ]
  },
  {
   "cell_type": "code",
   "execution_count": 5,
   "id": "arabic-privacy",
   "metadata": {},
   "outputs": [],
   "source": [
    "example_predictions_name = \"example_predictions.pkl\"\n",
    "test_features_name = \"test_features.pkl\"\n",
    "train_features_name = \"train_features.pkl\"\n",
    "train_outcomes_name = \"train_outcomes.pkl\""
   ]
  },
  {
   "cell_type": "code",
   "execution_count": 6,
   "id": "partial-pitch",
   "metadata": {},
   "outputs": [],
   "source": [
    "test_features = pd.read_pickle(data_path / test_features_name)\n",
    "train_features = pd.read_pickle(data_path / train_features_name)\n",
    "train_outcomes = pd.read_pickle(data_path / train_outcomes_name)"
   ]
  },
  {
   "cell_type": "code",
   "execution_count": 7,
   "id": "reported-sixth",
   "metadata": {},
   "outputs": [
    {
     "data": {
      "text/plain": [
       "((627908, 32), (2106808, 32), (2106808, 1))"
      ]
     },
     "execution_count": 7,
     "metadata": {},
     "output_type": "execute_result"
    }
   ],
   "source": [
    "test_features.shape, train_features.shape, train_outcomes.shape"
   ]
  },
  {
   "cell_type": "code",
   "execution_count": 8,
   "id": "civil-broadway",
   "metadata": {},
   "outputs": [],
   "source": [
    "from dataprocessing.process import StandardScaler, SmartLogtransformer, TrainTestSplit, Pipeline\n",
    "from dataprocessing.impute import SimpleImputer"
   ]
  },
  {
   "cell_type": "code",
   "execution_count": 9,
   "id": "removed-archive",
   "metadata": {},
   "outputs": [],
   "source": [
    "train_test_split = TrainTestSplit(test_size=0.2)\n",
    "X_train, X_val, y_train, y_val = train_test_split(train_features, train_outcomes)"
   ]
  },
  {
   "cell_type": "markdown",
   "id": "coated-canberra",
   "metadata": {},
   "source": [
    "### Pipeline for data processing"
   ]
  },
  {
   "cell_type": "code",
   "execution_count": 10,
   "id": "prime-cheese",
   "metadata": {},
   "outputs": [
    {
     "data": {
      "text/plain": [
       "[(imputer, <dataprocessing.impute.SimpleImputer>), \n",
       "(logtransformer, <dataprocessing.process.SmartLogtransformer>), \n",
       "(scaler, <dataprocessing.process.StandardScaler>)]"
      ]
     },
     "execution_count": 10,
     "metadata": {},
     "output_type": "execute_result"
    }
   ],
   "source": [
    "pipe = Pipeline(\n",
    "    [\n",
    "        (\"imputer\", SimpleImputer(strategy=\"median\")), \n",
    "        (\"logtransformer\", SmartLogtransformer()), \n",
    "        (\"scaler\", StandardScaler())\n",
    "    ]\n",
    ")\n",
    "pipe"
   ]
  },
  {
   "cell_type": "code",
   "execution_count": 11,
   "id": "sharing-uganda",
   "metadata": {},
   "outputs": [
    {
     "name": "stdout",
     "output_type": "stream",
     "text": [
      "Wall time: 5.22 s\n"
     ]
    }
   ],
   "source": [
    "%%time\n",
    "X_train = pipe.fit_transform(X_train)\n",
    "X_val = pipe.transform(X_val)\n",
    "X_test = pipe.transform(test_features)"
   ]
  },
  {
   "cell_type": "markdown",
   "id": "wrapped-monroe",
   "metadata": {},
   "source": [
    "## <center>XGBOOST"
   ]
  },
  {
   "cell_type": "markdown",
   "id": "after-toilet",
   "metadata": {},
   "source": [
    "# <center>Parameters Tuning"
   ]
  },
  {
   "cell_type": "markdown",
   "id": "irish-subject",
   "metadata": {},
   "source": [
    "## GridSearchXgb"
   ]
  },
  {
   "cell_type": "code",
   "execution_count": 12,
   "id": "retained-crisis",
   "metadata": {},
   "outputs": [],
   "source": [
    "import xgboost as xgb"
   ]
  },
  {
   "cell_type": "markdown",
   "id": "patent-excuse",
   "metadata": {},
   "source": [
    "#### Setting Parameters"
   ]
  },
  {
   "cell_type": "code",
   "execution_count": 13,
   "id": "alternative-portugal",
   "metadata": {},
   "outputs": [],
   "source": [
    "from dataprocessing.process import GridSearchXgb"
   ]
  },
  {
   "cell_type": "code",
   "execution_count": 14,
   "id": "crazy-shelter",
   "metadata": {},
   "outputs": [],
   "source": [
    "dtrain = xgb.DMatrix(X_train, label=y_train)\n",
    "dval = xgb.DMatrix(X_val, label=y_val)\n",
    "dtest = xgb.DMatrix(X_test)"
   ]
  },
  {
   "cell_type": "code",
   "execution_count": 15,
   "id": "wrapped-bowling",
   "metadata": {},
   "outputs": [],
   "source": [
    "evals = [(dtrain, 'train'), (dval, 'eval')]"
   ]
  },
  {
   "cell_type": "code",
   "execution_count": 47,
   "id": "worse-hurricane",
   "metadata": {},
   "outputs": [],
   "source": [
    "params = dict(\n",
    "    objective = 'binary:logistic', \n",
    "    eval_metric = 'error'\n",
    ")"
   ]
  },
  {
   "cell_type": "code",
   "execution_count": 48,
   "id": "hindu-brother",
   "metadata": {},
   "outputs": [],
   "source": [
    "xgb_train_params = dict(\n",
    "    params = params, \n",
    "    dtrain = dtrain, \n",
    "    num_boost_round = 100, \n",
    "    evals = evals, \n",
    "    early_stopping_rounds=3, \n",
    "    verbose_eval=False\n",
    ")"
   ]
  },
  {
   "cell_type": "code",
   "execution_count": 49,
   "id": "sunrise-reasoning",
   "metadata": {},
   "outputs": [],
   "source": [
    "param_grid_total = dict(\n",
    "    eta = [0.01, 0.05, 0.1, 0.5, 1, 2, 3],\n",
    "    max_depth = range(3, 10),\n",
    "    min_child_weight = range(1, 8), \n",
    "    subsample = [0.5, 1], \n",
    "    colsample_bytree = [0.5, 1], \n",
    "    alpha = [0.3, 0.65, 1]\n",
    ")"
   ]
  },
  {
   "cell_type": "code",
   "execution_count": 50,
   "id": "utility-albany",
   "metadata": {},
   "outputs": [],
   "source": [
    "def params_tunning(param_grid_total):\n",
    "    for param in param_grid_total:\n",
    "        param_grid = {param: param_grid_total[param]}\n",
    "        search = GridSearchXgb(\n",
    "            xgb_train_params = xgb_train_params,\n",
    "            param_grid = param_grid,\n",
    "        )\n",
    "        search.fit()\n",
    "        print(f\"best_params: {search.best_params_}, best score: {search.best_score_}, best num round: {search.best_num_boost_round}\")\n",
    "        # set params\n",
    "        for key in search.best_params_:\n",
    "            params[key] = search.best_params_[key]\n",
    "    return search.best_score_, params"
   ]
  },
  {
   "cell_type": "code",
   "execution_count": 51,
   "id": "continuing-alignment",
   "metadata": {},
   "outputs": [
    {
     "name": "stdout",
     "output_type": "stream",
     "text": [
      "best_params: {'eta': 0.1}, best score: 0.407981, best num round: 8\n",
      "best_params: {'max_depth': 5}, best score: 0.407465, best num round: 10\n",
      "best_params: {'min_child_weight': 1}, best score: 0.407465, best num round: 10\n",
      "best_params: {'subsample': 0.5}, best score: 0.407168, best num round: 13\n",
      "best_params: {'colsample_bytree': 1}, best score: 0.407168, best num round: 13\n",
      "best_params: {'alpha': 1}, best score: 0.406794, best num round: 14\n"
     ]
    }
   ],
   "source": [
    "best_score, best_params = params_tunning(param_grid_total)"
   ]
  },
  {
   "cell_type": "code",
   "execution_count": 52,
   "id": "minor-investigator",
   "metadata": {},
   "outputs": [
    {
     "data": {
      "text/plain": [
       "0.406794"
      ]
     },
     "execution_count": 52,
     "metadata": {},
     "output_type": "execute_result"
    }
   ],
   "source": [
    "best_score"
   ]
  },
  {
   "cell_type": "code",
   "execution_count": 53,
   "id": "combined-purpose",
   "metadata": {},
   "outputs": [
    {
     "name": "stdout",
     "output_type": "stream",
     "text": [
      "best accuracy: 0.593206\n"
     ]
    }
   ],
   "source": [
    "print(\"best accuracy:\", 1 - best_score)"
   ]
  },
  {
   "cell_type": "code",
   "execution_count": 54,
   "id": "alpine-person",
   "metadata": {},
   "outputs": [
    {
     "data": {
      "text/plain": [
       "{'objective': 'binary:logistic',\n",
       " 'eval_metric': 'error',\n",
       " 'eta': 0.1,\n",
       " 'max_depth': 5,\n",
       " 'min_child_weight': 1,\n",
       " 'subsample': 0.5,\n",
       " 'colsample_bytree': 1,\n",
       " 'alpha': 1}"
      ]
     },
     "execution_count": 54,
     "metadata": {},
     "output_type": "execute_result"
    }
   ],
   "source": [
    "best_params"
   ]
  },
  {
   "cell_type": "code",
   "execution_count": null,
   "id": "incorporate-photograph",
   "metadata": {},
   "outputs": [],
   "source": []
  }
 ],
 "metadata": {
  "kernelspec": {
   "display_name": "Python 3",
   "language": "python",
   "name": "python3"
  },
  "language_info": {
   "codemirror_mode": {
    "name": "ipython",
    "version": 3
   },
   "file_extension": ".py",
   "mimetype": "text/x-python",
   "name": "python",
   "nbconvert_exporter": "python",
   "pygments_lexer": "ipython3",
   "version": "3.8.6"
  }
 },
 "nbformat": 4,
 "nbformat_minor": 5
}

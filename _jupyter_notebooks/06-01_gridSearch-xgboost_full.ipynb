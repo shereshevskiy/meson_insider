{
 "cells": [
  {
   "cell_type": "markdown",
   "id": "empirical-hartford",
   "metadata": {},
   "source": [
    "# <center>Xgboost GridSearch"
   ]
  },
  {
   "cell_type": "code",
   "execution_count": 1,
   "id": "explicit-dimension",
   "metadata": {},
   "outputs": [],
   "source": [
    "import os\n",
    "os.chdir(\"..\")\n",
    "\n",
    "%load_ext autoreload\n",
    "%autoreload 2"
   ]
  },
  {
   "cell_type": "code",
   "execution_count": 2,
   "id": "random-potato",
   "metadata": {},
   "outputs": [],
   "source": [
    "from pathlib import Path\n",
    "import pandas as pd\n",
    "import numpy as np\n",
    "import seaborn as sns\n",
    "import matplotlib.pyplot as plt\n",
    "\n",
    "from datetime import timedelta"
   ]
  },
  {
   "cell_type": "code",
   "execution_count": 3,
   "id": "established-checkout",
   "metadata": {},
   "outputs": [],
   "source": [
    "# import warnings\n",
    "# warnings.simplefilter('ignore')\n",
    "\n",
    "pd.set_option('display.max_columns', 500)"
   ]
  },
  {
   "cell_type": "code",
   "execution_count": 4,
   "id": "better-inspection",
   "metadata": {},
   "outputs": [],
   "source": [
    "data_path = Path(\"data\")\n",
    "model_path = Path(\"model_data\")"
   ]
  },
  {
   "cell_type": "markdown",
   "id": "awful-timothy",
   "metadata": {},
   "source": [
    "### data"
   ]
  },
  {
   "cell_type": "code",
   "execution_count": 5,
   "id": "numeric-chess",
   "metadata": {},
   "outputs": [],
   "source": [
    "example_predictions_name = \"example_predictions.pkl\"\n",
    "test_features_name = \"test_features.pkl\"\n",
    "train_features_name = \"train_features.pkl\"\n",
    "train_outcomes_name = \"train_outcomes.pkl\""
   ]
  },
  {
   "cell_type": "code",
   "execution_count": 173,
   "id": "native-contribution",
   "metadata": {},
   "outputs": [],
   "source": [
    "example_predictions = pd.read_pickle(data_path / example_predictions_name)"
   ]
  },
  {
   "cell_type": "code",
   "execution_count": 6,
   "id": "focal-intervention",
   "metadata": {},
   "outputs": [],
   "source": [
    "test_features = pd.read_pickle(data_path / test_features_name)\n",
    "train_features = pd.read_pickle(data_path / train_features_name)\n",
    "train_outcomes = pd.read_pickle(data_path / train_outcomes_name)"
   ]
  },
  {
   "cell_type": "code",
   "execution_count": 7,
   "id": "iraqi-resistance",
   "metadata": {},
   "outputs": [
    {
     "data": {
      "text/plain": [
       "((627908, 32), (2106808, 32), (2106808, 1))"
      ]
     },
     "execution_count": 7,
     "metadata": {},
     "output_type": "execute_result"
    }
   ],
   "source": [
    "test_features.shape, train_features.shape, train_outcomes.shape"
   ]
  },
  {
   "cell_type": "code",
   "execution_count": 8,
   "id": "communist-brazil",
   "metadata": {},
   "outputs": [],
   "source": [
    "from dataprocessing.process import StandardScaler, SmartLogtransformer, TrainTestSplit, Pipeline\n",
    "from dataprocessing.impute import SimpleImputer"
   ]
  },
  {
   "cell_type": "code",
   "execution_count": 9,
   "id": "documentary-nevada",
   "metadata": {},
   "outputs": [],
   "source": [
    "train_test_split = TrainTestSplit(test_size=0.2)\n",
    "X_train, X_val, y_train, y_val = train_test_split(train_features, train_outcomes)"
   ]
  },
  {
   "cell_type": "markdown",
   "id": "recorded-characteristic",
   "metadata": {},
   "source": [
    "### Pipeline for data processing"
   ]
  },
  {
   "cell_type": "code",
   "execution_count": 10,
   "id": "legendary-appointment",
   "metadata": {},
   "outputs": [
    {
     "data": {
      "text/plain": [
       "[(imputer, <dataprocessing.impute.SimpleImputer>), \n",
       "(logtransformer, <dataprocessing.process.SmartLogtransformer>), \n",
       "(scaler, <dataprocessing.process.StandardScaler>)]"
      ]
     },
     "execution_count": 10,
     "metadata": {},
     "output_type": "execute_result"
    }
   ],
   "source": [
    "pipe = Pipeline(\n",
    "    [\n",
    "        (\"imputer\", SimpleImputer(strategy=\"median\")), \n",
    "        (\"logtransformer\", SmartLogtransformer()), \n",
    "        (\"scaler\", StandardScaler())\n",
    "    ]\n",
    ")\n",
    "pipe"
   ]
  },
  {
   "cell_type": "code",
   "execution_count": 11,
   "id": "affected-hands",
   "metadata": {},
   "outputs": [
    {
     "name": "stdout",
     "output_type": "stream",
     "text": [
      "Wall time: 5.22 s\n"
     ]
    }
   ],
   "source": [
    "%%time\n",
    "X_train = pipe.fit_transform(X_train)\n",
    "X_val = pipe.transform(X_val)\n",
    "X_test = pipe.transform(test_features)"
   ]
  },
  {
   "cell_type": "markdown",
   "id": "representative-testament",
   "metadata": {},
   "source": [
    "## <center>XGBOOST"
   ]
  },
  {
   "cell_type": "markdown",
   "id": "alternative-playlist",
   "metadata": {},
   "source": [
    "# <center>Parameters Tuning"
   ]
  },
  {
   "cell_type": "markdown",
   "id": "negative-invasion",
   "metadata": {},
   "source": [
    "## GridSearchXgb"
   ]
  },
  {
   "cell_type": "code",
   "execution_count": 12,
   "id": "latin-temperature",
   "metadata": {},
   "outputs": [],
   "source": [
    "import xgboost as xgb"
   ]
  },
  {
   "cell_type": "markdown",
   "id": "brazilian-consent",
   "metadata": {},
   "source": [
    "#### Setting Parameters"
   ]
  },
  {
   "cell_type": "code",
   "execution_count": 13,
   "id": "wicked-mother",
   "metadata": {},
   "outputs": [],
   "source": [
    "from dataprocessing.process import GridSearchXgb"
   ]
  },
  {
   "cell_type": "code",
   "execution_count": 14,
   "id": "approximate-insurance",
   "metadata": {},
   "outputs": [],
   "source": [
    "dtrain = xgb.DMatrix(X_train, label=y_train)\n",
    "dval = xgb.DMatrix(X_val, label=y_val)\n",
    "dtest = xgb.DMatrix(X_test)"
   ]
  },
  {
   "cell_type": "code",
   "execution_count": 15,
   "id": "unauthorized-transparency",
   "metadata": {},
   "outputs": [],
   "source": [
    "evals = [(dtrain, 'train'), (dval, 'eval')]"
   ]
  },
  {
   "cell_type": "code",
   "execution_count": 47,
   "id": "enclosed-syracuse",
   "metadata": {},
   "outputs": [],
   "source": [
    "params = dict(\n",
    "    objective = 'binary:logistic', \n",
    "    eval_metric = 'error'\n",
    ")"
   ]
  },
  {
   "cell_type": "code",
   "execution_count": 48,
   "id": "brown-purpose",
   "metadata": {},
   "outputs": [],
   "source": [
    "xgb_train_params = dict(\n",
    "    params = params, \n",
    "    dtrain = dtrain, \n",
    "    num_boost_round = 100, \n",
    "    evals = evals, \n",
    "    early_stopping_rounds=3, \n",
    "    verbose_eval=False\n",
    ")"
   ]
  },
  {
   "cell_type": "code",
   "execution_count": 49,
   "id": "mature-emperor",
   "metadata": {},
   "outputs": [],
   "source": [
    "param_grid_total = dict(\n",
    "    eta = [0.01, 0.05, 0.1, 0.5, 1, 2, 3],\n",
    "    max_depth = range(3, 10),\n",
    "    min_child_weight = range(1, 8), \n",
    "    subsample = [0.5, 1], \n",
    "    colsample_bytree = [0.5, 1], \n",
    "    alpha = [0.3, 0.65, 1]\n",
    ")"
   ]
  },
  {
   "cell_type": "code",
   "execution_count": 50,
   "id": "informed-semiconductor",
   "metadata": {},
   "outputs": [],
   "source": [
    "def params_tunning(param_grid_total):\n",
    "    for param in param_grid_total:\n",
    "        param_grid = {param: param_grid_total[param]}\n",
    "        search = GridSearchXgb(\n",
    "            xgb_train_params = xgb_train_params,\n",
    "            param_grid = param_grid,\n",
    "        )\n",
    "        search.fit()\n",
    "        print(f\"best_params: {search.best_params_}, best score: {search.best_score_}, best num round: {search.best_num_boost_round}\")\n",
    "        # set params\n",
    "        for key in search.best_params_:\n",
    "            params[key] = search.best_params_[key]\n",
    "    return search.best_score_, params"
   ]
  },
  {
   "cell_type": "code",
   "execution_count": 51,
   "id": "incident-animal",
   "metadata": {},
   "outputs": [
    {
     "name": "stdout",
     "output_type": "stream",
     "text": [
      "best_params: {'eta': 0.1}, best score: 0.407981, best num round: 8\n",
      "best_params: {'max_depth': 5}, best score: 0.407465, best num round: 10\n",
      "best_params: {'min_child_weight': 1}, best score: 0.407465, best num round: 10\n",
      "best_params: {'subsample': 0.5}, best score: 0.407168, best num round: 13\n",
      "best_params: {'colsample_bytree': 1}, best score: 0.407168, best num round: 13\n",
      "best_params: {'alpha': 1}, best score: 0.406794, best num round: 14\n"
     ]
    }
   ],
   "source": [
    "best_score, best_params = params_tunning(param_grid_total)"
   ]
  },
  {
   "cell_type": "code",
   "execution_count": 52,
   "id": "white-monitoring",
   "metadata": {},
   "outputs": [
    {
     "data": {
      "text/plain": [
       "0.406794"
      ]
     },
     "execution_count": 52,
     "metadata": {},
     "output_type": "execute_result"
    }
   ],
   "source": [
    "best_score"
   ]
  },
  {
   "cell_type": "code",
   "execution_count": 53,
   "id": "fifty-scratch",
   "metadata": {},
   "outputs": [
    {
     "name": "stdout",
     "output_type": "stream",
     "text": [
      "best accuracy: 0.593206\n"
     ]
    }
   ],
   "source": [
    "print(\"best accuracy:\", 1 - best_score)"
   ]
  },
  {
   "cell_type": "code",
   "execution_count": 54,
   "id": "international-kazakhstan",
   "metadata": {},
   "outputs": [
    {
     "data": {
      "text/plain": [
       "{'objective': 'binary:logistic',\n",
       " 'eval_metric': 'error',\n",
       " 'eta': 0.1,\n",
       " 'max_depth': 5,\n",
       " 'min_child_weight': 1,\n",
       " 'subsample': 0.5,\n",
       " 'colsample_bytree': 1,\n",
       " 'alpha': 1}"
      ]
     },
     "execution_count": 54,
     "metadata": {},
     "output_type": "execute_result"
    }
   ],
   "source": [
    "best_params"
   ]
  },
  {
   "cell_type": "code",
   "execution_count": 89,
   "id": "surgical-twenty",
   "metadata": {},
   "outputs": [
    {
     "data": {
      "text/plain": [
       "14"
      ]
     },
     "execution_count": 89,
     "metadata": {},
     "output_type": "execute_result"
    }
   ],
   "source": [
    "bst.best_ntree_limit"
   ]
  },
  {
   "cell_type": "code",
   "execution_count": 191,
   "id": "published-fruit",
   "metadata": {},
   "outputs": [
    {
     "data": {
      "image/png": "[encoded data removed]",
      "text/plain": [
       "<Figure size 432x288 with 1 Axes>"
      ]
     },
     "metadata": {
      "needs_background": "light"
     },
     "output_type": "display_data"
    }
   ],
   "source": [
    "xgb.plot_importance(bst);"
   ]
  },
  {
   "cell_type": "markdown",
   "id": "functional-counter",
   "metadata": {},
   "source": [
    "## <center>calibration_curve"
   ]
  },
  {
   "cell_type": "code",
   "execution_count": 158,
   "id": "distant-producer",
   "metadata": {},
   "outputs": [],
   "source": [
    "from sklearn.calibration import calibration_curve, CalibratedClassifierCV\n",
    "from sklearn.metrics import brier_score_loss"
   ]
  },
  {
   "cell_type": "code",
   "execution_count": 159,
   "id": "potential-genome",
   "metadata": {},
   "outputs": [],
   "source": [
    "bst = xgb.train(**xgb_train_params)"
   ]
  },
  {
   "cell_type": "code",
   "execution_count": 160,
   "id": "hundred-tennis",
   "metadata": {},
   "outputs": [],
   "source": [
    "y_val_proba = bst.predict(dval, ntree_limit=bst.best_ntree_limit)"
   ]
  },
  {
   "cell_type": "code",
   "execution_count": 161,
   "id": "approximate-afghanistan",
   "metadata": {},
   "outputs": [],
   "source": [
    "fraction_of_positives, mean_predicted_value = calibration_curve(y_val.values, y_val_proba, n_bins=10)"
   ]
  },
  {
   "cell_type": "code",
   "execution_count": 162,
   "id": "historical-buffer",
   "metadata": {},
   "outputs": [
    {
     "data": {
      "image/png": "[encoded data removed]",
      "text/plain": [
       "<Figure size 432x288 with 1 Axes>"
      ]
     },
     "metadata": {
      "needs_background": "light"
     },
     "output_type": "display_data"
    }
   ],
   "source": [
    "plt.plot(mean_predicted_value, fraction_of_positives)\n",
    "plt.plot(range(0, 2), range(0, 2), 'ro--')\n",
    "plt.xlim(0, 1)\n",
    "plt.ylim(0, 1);"
   ]
  },
  {
   "cell_type": "code",
   "execution_count": 163,
   "id": "breathing-record",
   "metadata": {},
   "outputs": [
    {
     "name": "stdout",
     "output_type": "stream",
     "text": [
      "Brier score losses: (the smaller the better)\n",
      "No calibration: 0.240\n"
     ]
    }
   ],
   "source": [
    "print(\"Brier score losses: (the smaller the better)\")\n",
    "clf_brier_score = brier_score_loss(y_val.values, y_val_proba)\n",
    "print(\"No calibration: %1.3f\" % clf_brier_score)"
   ]
  },
  {
   "cell_type": "markdown",
   "id": "intimate-knowing",
   "metadata": {},
   "source": [
    "### Calibrating of Classifier\n",
    "(CalibratedClassifierCV)"
   ]
  },
  {
   "cell_type": "code",
   "execution_count": 164,
   "id": "congressional-arnold",
   "metadata": {},
   "outputs": [],
   "source": [
    "sk_best_params = {\n",
    "    'objective': 'binary:logistic',\n",
    "    'eval_metric': 'error', \n",
    "    'n_estimators': bst.best_ntree_limit, \n",
    "     'learning_rate': 0.1,\n",
    "     'max_depth': 5,\n",
    "     'min_child_weight': 1,\n",
    "     'subsample': 0.5,\n",
    "     'colsample_bytree': 1,\n",
    "     'reg_alpha': 1\n",
    "}"
   ]
  },
  {
   "cell_type": "code",
   "execution_count": 165,
   "id": "difficult-batch",
   "metadata": {},
   "outputs": [
    {
     "data": {
      "text/plain": [
       "XGBClassifier(base_score=0.5, booster='gbtree', colsample_bylevel=1,\n",
       "              colsample_bynode=1, colsample_bytree=1, eval_metric='error',\n",
       "              gamma=0, gpu_id=-1, importance_type='gain',\n",
       "              interaction_constraints='', learning_rate=0.1, max_delta_step=0,\n",
       "              max_depth=5, min_child_weight=1, missing=nan,\n",
       "              monotone_constraints='()', n_estimators=14, n_jobs=8,\n",
       "              num_parallel_tree=1, random_state=0, reg_alpha=1, reg_lambda=1,\n",
       "              scale_pos_weight=1, subsample=0.5, tree_method='exact',\n",
       "              use_label_encoder=False, validate_parameters=1, verbosity=None)"
      ]
     },
     "execution_count": 165,
     "metadata": {},
     "output_type": "execute_result"
    }
   ],
   "source": [
    "clf = xgb.XGBClassifier(use_label_encoder=False, **sk_best_params)\n",
    "clf.fit(X_train.values, y_train.values.ravel())"
   ]
  },
  {
   "cell_type": "code",
   "execution_count": 166,
   "id": "danish-conference",
   "metadata": {},
   "outputs": [],
   "source": [
    "calibrated_clf = CalibratedClassifierCV(base_estimator=clf, cv=\"prefit\", method='isotonic')"
   ]
  },
  {
   "cell_type": "code",
   "execution_count": 167,
   "id": "rocky-alberta",
   "metadata": {},
   "outputs": [
    {
     "data": {
      "text/plain": [
       "CalibratedClassifierCV(base_estimator=XGBClassifier(base_score=0.5,\n",
       "                                                    booster='gbtree',\n",
       "                                                    colsample_bylevel=1,\n",
       "                                                    colsample_bynode=1,\n",
       "                                                    colsample_bytree=1,\n",
       "                                                    eval_metric='error',\n",
       "                                                    gamma=0, gpu_id=-1,\n",
       "                                                    importance_type='gain',\n",
       "                                                    interaction_constraints='',\n",
       "                                                    learning_rate=0.1,\n",
       "                                                    max_delta_step=0,\n",
       "                                                    max_depth=5,\n",
       "                                                    min_child_weight=1,\n",
       "                                                    missing=nan,\n",
       "                                                    monotone_constraints='()',\n",
       "                                                    n_estimators=14, n_jobs=8,\n",
       "                                                    num_parallel_tree=1,\n",
       "                                                    random_state=0, reg_alpha=1,\n",
       "                                                    reg_lambda=1,\n",
       "                                                    scale_pos_weight=1,\n",
       "                                                    subsample=0.5,\n",
       "                                                    tree_method='exact',\n",
       "                                                    use_label_encoder=False,\n",
       "                                                    validate_parameters=1,\n",
       "                                                    verbosity=None),\n",
       "                       cv='prefit', method='isotonic')"
      ]
     },
     "execution_count": 167,
     "metadata": {},
     "output_type": "execute_result"
    }
   ],
   "source": [
    "calibrated_clf.fit(X_val.values, y_val.values)"
   ]
  },
  {
   "cell_type": "code",
   "execution_count": 168,
   "id": "opening-tucson",
   "metadata": {},
   "outputs": [
    {
     "data": {
      "text/plain": [
       "0.5953397476855131"
      ]
     },
     "execution_count": 168,
     "metadata": {},
     "output_type": "execute_result"
    }
   ],
   "source": [
    "calibrated_clf.score(X_val, y_val)"
   ]
  },
  {
   "cell_type": "code",
   "execution_count": 169,
   "id": "unable-yemen",
   "metadata": {},
   "outputs": [],
   "source": [
    "y_val_proba_clbr = calibrated_clf.predict_proba(X_val.values)"
   ]
  },
  {
   "cell_type": "code",
   "execution_count": 170,
   "id": "binding-price",
   "metadata": {},
   "outputs": [
    {
     "data": {
      "image/png": "[encoded data removed]",
      "text/plain": [
       "<Figure size 432x288 with 1 Axes>"
      ]
     },
     "metadata": {
      "needs_background": "light"
     },
     "output_type": "display_data"
    }
   ],
   "source": [
    "fraction_of_positives, mean_predicted_value = calibration_curve(y_val.values, y_val_proba_clbr[:, 1], n_bins=10)\n",
    "\n",
    "plt.plot(mean_predicted_value, fraction_of_positives)\n",
    "plt.plot(np.linspace(0, 1, 20), np.linspace(0, 1, 20), 'rx')\n",
    "plt.xlim(0, 1)\n",
    "plt.ylim(0, 1);"
   ]
  },
  {
   "cell_type": "code",
   "execution_count": 172,
   "id": "moved-mounting",
   "metadata": {},
   "outputs": [
    {
     "name": "stdout",
     "output_type": "stream",
     "text": [
      "Isotonic calibration: 0.237\n"
     ]
    }
   ],
   "source": [
    "clf_brier_score = brier_score_loss(y_val.values, y_val_proba_clbr[:, 1])\n",
    "print(\"Isotonic calibration: %1.3f\" % clf_brier_score)"
   ]
  },
  {
   "cell_type": "markdown",
   "id": "boring-opera",
   "metadata": {},
   "source": [
    "## Submit"
   ]
  },
  {
   "cell_type": "code",
   "execution_count": 176,
   "id": "focal-reach",
   "metadata": {},
   "outputs": [],
   "source": [
    "def make_submit(sk_clf, test_features, pipe, col_name=\"g__12m_binary\"):\n",
    "    X_test = pipe.transform(test_features)\n",
    "    y_test_proba = sk_clf.predict_proba(X_test.values)\n",
    "    df_y_test_proba = pd.DataFrame({col_name: y_test_proba[:, 1]}, index=X_test.index)\n",
    "    return df_y_test_proba"
   ]
  },
  {
   "cell_type": "code",
   "execution_count": 177,
   "id": "scenic-record",
   "metadata": {},
   "outputs": [],
   "source": [
    "test_xgb_submit = make_submit(calibrated_clf, test_features, pipe)"
   ]
  },
  {
   "cell_type": "code",
   "execution_count": 178,
   "id": "metallic-commander",
   "metadata": {},
   "outputs": [
    {
     "data": {
      "text/html": [
       "<div>\n",
       "<style scoped>\n",
       "    .dataframe tbody tr th:only-of-type {\n",
       "        vertical-align: middle;\n",
       "    }\n",
       "\n",
       "    .dataframe tbody tr th {\n",
       "        vertical-align: top;\n",
       "    }\n",
       "\n",
       "    .dataframe thead th {\n",
       "        text-align: right;\n",
       "    }\n",
       "</style>\n",
       "<table border=\"1\" class=\"dataframe\">\n",
       "  <thead>\n",
       "    <tr style=\"text-align: right;\">\n",
       "      <th></th>\n",
       "      <th></th>\n",
       "      <th>g__12m_binary</th>\n",
       "    </tr>\n",
       "    <tr>\n",
       "      <th>date</th>\n",
       "      <th>tradingitemid</th>\n",
       "      <th></th>\n",
       "    </tr>\n",
       "  </thead>\n",
       "  <tbody>\n",
       "    <tr>\n",
       "      <th rowspan=\"5\" valign=\"top\">2016-01-01</th>\n",
       "      <th>2585893</th>\n",
       "      <td>0.603191</td>\n",
       "    </tr>\n",
       "    <tr>\n",
       "      <th>2585895</th>\n",
       "      <td>0.522619</td>\n",
       "    </tr>\n",
       "    <tr>\n",
       "      <th>2586016</th>\n",
       "      <td>0.603814</td>\n",
       "    </tr>\n",
       "    <tr>\n",
       "      <th>2586068</th>\n",
       "      <td>0.448502</td>\n",
       "    </tr>\n",
       "    <tr>\n",
       "      <th>2586084</th>\n",
       "      <td>0.522619</td>\n",
       "    </tr>\n",
       "    <tr>\n",
       "      <th>...</th>\n",
       "      <th>...</th>\n",
       "      <td>...</td>\n",
       "    </tr>\n",
       "    <tr>\n",
       "      <th rowspan=\"5\" valign=\"top\">2019-09-20</th>\n",
       "      <th>633841867</th>\n",
       "      <td>0.359291</td>\n",
       "    </tr>\n",
       "    <tr>\n",
       "      <th>634751265</th>\n",
       "      <td>0.354011</td>\n",
       "    </tr>\n",
       "    <tr>\n",
       "      <th>635766194</th>\n",
       "      <td>0.354011</td>\n",
       "    </tr>\n",
       "    <tr>\n",
       "      <th>636344928</th>\n",
       "      <td>0.354011</td>\n",
       "    </tr>\n",
       "    <tr>\n",
       "      <th>637117468</th>\n",
       "      <td>0.354011</td>\n",
       "    </tr>\n",
       "  </tbody>\n",
       "</table>\n",
       "<p>627908 rows × 1 columns</p>\n",
       "</div>"
      ],
      "text/plain": [
       "                          g__12m_binary\n",
       "date       tradingitemid               \n",
       "2016-01-01 2585893             0.603191\n",
       "           2585895             0.522619\n",
       "           2586016             0.603814\n",
       "           2586068             0.448502\n",
       "           2586084             0.522619\n",
       "...                                 ...\n",
       "2019-09-20 633841867           0.359291\n",
       "           634751265           0.354011\n",
       "           635766194           0.354011\n",
       "           636344928           0.354011\n",
       "           637117468           0.354011\n",
       "\n",
       "[627908 rows x 1 columns]"
      ]
     },
     "execution_count": 178,
     "metadata": {},
     "output_type": "execute_result"
    }
   ],
   "source": [
    "test_xgb_submit"
   ]
  },
  {
   "cell_type": "code",
   "execution_count": 179,
   "id": "seeing-northeast",
   "metadata": {},
   "outputs": [],
   "source": [
    "test_xgb_submit.to_pickle(data_path / \"test_xgb_submit.pkl\")"
   ]
  },
  {
   "cell_type": "markdown",
   "id": "military-vision",
   "metadata": {},
   "source": [
    "#### save-read check"
   ]
  },
  {
   "cell_type": "code",
   "execution_count": 189,
   "id": "disciplinary-brook",
   "metadata": {},
   "outputs": [],
   "source": [
    "test_xgb_submit_ = pd.read_pickle(data_path / \"test_xgb_submit.pkl\")\n",
    "assert (test_xgb_submit_ == test_xgb_submit).all().item()"
   ]
  },
  {
   "cell_type": "code",
   "execution_count": 190,
   "id": "mechanical-gates",
   "metadata": {},
   "outputs": [
    {
     "data": {
      "text/html": [
       "<div>\n",
       "<style scoped>\n",
       "    .dataframe tbody tr th:only-of-type {\n",
       "        vertical-align: middle;\n",
       "    }\n",
       "\n",
       "    .dataframe tbody tr th {\n",
       "        vertical-align: top;\n",
       "    }\n",
       "\n",
       "    .dataframe thead th {\n",
       "        text-align: right;\n",
       "    }\n",
       "</style>\n",
       "<table border=\"1\" class=\"dataframe\">\n",
       "  <thead>\n",
       "    <tr style=\"text-align: right;\">\n",
       "      <th></th>\n",
       "      <th></th>\n",
       "      <th>g__12m_binary</th>\n",
       "    </tr>\n",
       "    <tr>\n",
       "      <th>date</th>\n",
       "      <th>tradingitemid</th>\n",
       "      <th></th>\n",
       "    </tr>\n",
       "  </thead>\n",
       "  <tbody>\n",
       "    <tr>\n",
       "      <th rowspan=\"5\" valign=\"top\">2006-12-29</th>\n",
       "      <th>2585893</th>\n",
       "      <td>0.541588</td>\n",
       "    </tr>\n",
       "    <tr>\n",
       "      <th>2585895</th>\n",
       "      <td>0.522537</td>\n",
       "    </tr>\n",
       "    <tr>\n",
       "      <th>2585941</th>\n",
       "      <td>0.500847</td>\n",
       "    </tr>\n",
       "    <tr>\n",
       "      <th>2585945</th>\n",
       "      <td>0.496815</td>\n",
       "    </tr>\n",
       "    <tr>\n",
       "      <th>2585957</th>\n",
       "      <td>0.552594</td>\n",
       "    </tr>\n",
       "    <tr>\n",
       "      <th>...</th>\n",
       "      <th>...</th>\n",
       "      <td>...</td>\n",
       "    </tr>\n",
       "    <tr>\n",
       "      <th rowspan=\"5\" valign=\"top\">2015-12-25</th>\n",
       "      <th>586093745</th>\n",
       "      <td>0.396823</td>\n",
       "    </tr>\n",
       "    <tr>\n",
       "      <th>606023847</th>\n",
       "      <td>0.396823</td>\n",
       "    </tr>\n",
       "    <tr>\n",
       "      <th>607745150</th>\n",
       "      <td>0.396823</td>\n",
       "    </tr>\n",
       "    <tr>\n",
       "      <th>610592433</th>\n",
       "      <td>0.396823</td>\n",
       "    </tr>\n",
       "    <tr>\n",
       "      <th>618650356</th>\n",
       "      <td>0.396823</td>\n",
       "    </tr>\n",
       "  </tbody>\n",
       "</table>\n",
       "<p>1618127 rows × 1 columns</p>\n",
       "</div>"
      ],
      "text/plain": [
       "                          g__12m_binary\n",
       "date       tradingitemid               \n",
       "2006-12-29 2585893             0.541588\n",
       "           2585895             0.522537\n",
       "           2585941             0.500847\n",
       "           2585945             0.496815\n",
       "           2585957             0.552594\n",
       "...                                 ...\n",
       "2015-12-25 586093745           0.396823\n",
       "           606023847           0.396823\n",
       "           607745150           0.396823\n",
       "           610592433           0.396823\n",
       "           618650356           0.396823\n",
       "\n",
       "[1618127 rows x 1 columns]"
      ]
     },
     "execution_count": 190,
     "metadata": {},
     "output_type": "execute_result"
    }
   ],
   "source": [
    "example_predictions"
   ]
  },
  {
   "cell_type": "code",
   "execution_count": null,
   "id": "vocational-jesus",
   "metadata": {},
   "outputs": [],
   "source": []
  }
 ],
 "metadata": {
  "kernelspec": {
   "display_name": "Python 3",
   "language": "python",
   "name": "python3"
  },
  "language_info": {
   "codemirror_mode": {
    "name": "ipython",
    "version": 3
   },
   "file_extension": ".py",
   "mimetype": "text/x-python",
   "name": "python",
   "nbconvert_exporter": "python",
   "pygments_lexer": "ipython3",
   "version": "3.8.6"
  }
 },
 "nbformat": 4,
 "nbformat_minor": 5
}

{
 "cells": [
  {
   "cell_type": "markdown",
   "id": "possible-atlantic",
   "metadata": {},
   "source": [
    "# <center>Xgboost GridSearch"
   ]
  },
  {
   "cell_type": "code",
   "execution_count": 1,
   "id": "loved-geneva",
   "metadata": {},
   "outputs": [],
   "source": [
    "import os\n",
    "os.chdir(\"..\")\n",
    "\n",
    "%load_ext autoreload\n",
    "%autoreload 2"
   ]
  },
  {
   "cell_type": "code",
   "execution_count": 2,
   "id": "collect-thirty",
   "metadata": {},
   "outputs": [],
   "source": [
    "from pathlib import Path\n",
    "import pandas as pd\n",
    "import numpy as np\n",
    "import seaborn as sns\n",
    "import matplotlib.pyplot as plt\n",
    "\n",
    "from datetime import timedelta"
   ]
  },
  {
   "cell_type": "code",
   "execution_count": 3,
   "id": "selected-asthma",
   "metadata": {},
   "outputs": [],
   "source": [
    "# import warnings\n",
    "# warnings.simplefilter('ignore')\n",
    "\n",
    "pd.set_option('display.max_columns', 500)"
   ]
  },
  {
   "cell_type": "code",
   "execution_count": 4,
   "id": "distinct-speaker",
   "metadata": {},
   "outputs": [],
   "source": [
    "data_path = Path(\"data\")\n",
    "model_path = Path(\"model_data\")"
   ]
  },
  {
   "cell_type": "markdown",
   "id": "improving-holder",
   "metadata": {},
   "source": [
    "### data"
   ]
  },
  {
   "cell_type": "code",
   "execution_count": 5,
   "id": "pursuant-weekend",
   "metadata": {},
   "outputs": [],
   "source": [
    "example_predictions_name = \"example_predictions.pkl\"\n",
    "test_features_name = \"test_features.pkl\"\n",
    "train_features_name = \"train_features.pkl\"\n",
    "train_outcomes_name = \"train_outcomes.pkl\""
   ]
  },
  {
   "cell_type": "code",
   "execution_count": 6,
   "id": "least-tennessee",
   "metadata": {},
   "outputs": [],
   "source": [
    "test_features = pd.read_pickle(data_path / test_features_name)\n",
    "train_features = pd.read_pickle(data_path / train_features_name)\n",
    "train_outcomes = pd.read_pickle(data_path / train_outcomes_name)"
   ]
  },
  {
   "cell_type": "code",
   "execution_count": 7,
   "id": "annual-serial",
   "metadata": {},
   "outputs": [
    {
     "data": {
      "text/plain": [
       "((627908, 32), (2106808, 32), (2106808, 1))"
      ]
     },
     "execution_count": 7,
     "metadata": {},
     "output_type": "execute_result"
    }
   ],
   "source": [
    "test_features.shape, train_features.shape, train_outcomes.shape"
   ]
  },
  {
   "cell_type": "code",
   "execution_count": 8,
   "id": "signal-profile",
   "metadata": {},
   "outputs": [],
   "source": [
    "from dataprocessing.process import StandardScaler, SmartLogtransformer, TrainTestSplit, Pipeline\n",
    "from dataprocessing.impute import SimpleImputer"
   ]
  },
  {
   "cell_type": "code",
   "execution_count": 9,
   "id": "ancient-stomach",
   "metadata": {},
   "outputs": [],
   "source": [
    "train_test_split = TrainTestSplit(test_size=0.2)\n",
    "X_train, X_val, y_train, y_val = train_test_split(train_features, train_outcomes)"
   ]
  },
  {
   "cell_type": "markdown",
   "id": "consolidated-banana",
   "metadata": {},
   "source": [
    "### Pipeline for data processing"
   ]
  },
  {
   "cell_type": "code",
   "execution_count": 10,
   "id": "universal-debut",
   "metadata": {},
   "outputs": [
    {
     "data": {
      "text/plain": [
       "[(imputer, <dataprocessing.impute.SimpleImputer>), \n",
       "(logtransformer, <dataprocessing.process.SmartLogtransformer>), \n",
       "(scaler, <dataprocessing.process.StandardScaler>)]"
      ]
     },
     "execution_count": 10,
     "metadata": {},
     "output_type": "execute_result"
    }
   ],
   "source": [
    "pipe = Pipeline(\n",
    "    [\n",
    "        (\"imputer\", SimpleImputer(strategy=\"median\")), \n",
    "        (\"logtransformer\", SmartLogtransformer()), \n",
    "        (\"scaler\", StandardScaler())\n",
    "    ]\n",
    ")\n",
    "pipe"
   ]
  },
  {
   "cell_type": "code",
   "execution_count": 11,
   "id": "blessed-singing",
   "metadata": {},
   "outputs": [
    {
     "name": "stdout",
     "output_type": "stream",
     "text": [
      "Wall time: 10.9 s\n"
     ]
    }
   ],
   "source": [
    "%%time\n",
    "X_train = pipe.fit_transform(X_train)\n",
    "X_val = pipe.transform(X_val)\n",
    "X_test = pipe.transform(test_features)"
   ]
  },
  {
   "cell_type": "markdown",
   "id": "crazy-panel",
   "metadata": {},
   "source": [
    "## <center>XGBOOST"
   ]
  },
  {
   "cell_type": "markdown",
   "id": "automotive-austin",
   "metadata": {},
   "source": [
    "# <center>Parameters Tuning"
   ]
  },
  {
   "cell_type": "markdown",
   "id": "primary-bandwidth",
   "metadata": {},
   "source": [
    "## GridSearchXgb"
   ]
  },
  {
   "cell_type": "code",
   "execution_count": 12,
   "id": "yellow-universe",
   "metadata": {},
   "outputs": [],
   "source": [
    "import xgboost as xgb"
   ]
  },
  {
   "cell_type": "markdown",
   "id": "random-carbon",
   "metadata": {},
   "source": [
    "#### Setting Parameters"
   ]
  },
  {
   "cell_type": "code",
   "execution_count": 103,
   "id": "dedicated-worthy",
   "metadata": {},
   "outputs": [],
   "source": [
    "from dataprocessing.process import GridSearchXgb"
   ]
  },
  {
   "cell_type": "code",
   "execution_count": 17,
   "id": "uniform-trademark",
   "metadata": {},
   "outputs": [],
   "source": [
    "dtrain = xgb.DMatrix(X_train, label=y_train)\n",
    "dval = xgb.DMatrix(X_val, label=y_val)\n",
    "dtest = xgb.DMatrix(X_test)"
   ]
  },
  {
   "cell_type": "code",
   "execution_count": 18,
   "id": "union-conflict",
   "metadata": {},
   "outputs": [],
   "source": [
    "evals = [(dtrain, 'train'), (dval, 'eval')]"
   ]
  },
  {
   "cell_type": "code",
   "execution_count": 25,
   "id": "political-baltimore",
   "metadata": {},
   "outputs": [],
   "source": [
    "params = dict(\n",
    "    objective = 'binary:logistic', \n",
    "    eval_metric = 'error'\n",
    ")"
   ]
  },
  {
   "cell_type": "code",
   "execution_count": 66,
   "id": "human-confusion",
   "metadata": {},
   "outputs": [],
   "source": [
    "xgb_train_params = dict(\n",
    "    params = params, \n",
    "    dtrain = dtrain, \n",
    "    num_boost_round = 100, \n",
    "    evals = evals, \n",
    "    early_stopping_rounds=3, \n",
    "    verbose_eval=False\n",
    ")"
   ]
  },
  {
   "cell_type": "code",
   "execution_count": 94,
   "id": "grand-degree",
   "metadata": {},
   "outputs": [],
   "source": [
    "param_grid = dict(\n",
    "    max_depth = range(1, 3), \n",
    "    eta = [1, 2]\n",
    ")"
   ]
  },
  {
   "cell_type": "code",
   "execution_count": 95,
   "id": "dimensional-tracy",
   "metadata": {},
   "outputs": [],
   "source": [
    "search = GridSearchXgb(\n",
    "    xgb_train_params = xgb_train_params,\n",
    "    param_grid = param_grid,\n",
    "    verbose = True\n",
    ")"
   ]
  },
  {
   "cell_type": "code",
   "execution_count": 96,
   "id": "decreased-bhutan",
   "metadata": {},
   "outputs": [
    {
     "name": "stdout",
     "output_type": "stream",
     "text": [
      "total: 4\n",
      "....\n",
      "Wall time: 14.3 s\n"
     ]
    }
   ],
   "source": [
    "%%time\n",
    "search.fit()"
   ]
  },
  {
   "cell_type": "code",
   "execution_count": 97,
   "id": "sharing-petite",
   "metadata": {},
   "outputs": [
    {
     "data": {
      "text/plain": [
       "0.412205"
      ]
     },
     "execution_count": 97,
     "metadata": {},
     "output_type": "execute_result"
    }
   ],
   "source": [
    "search.best_score_"
   ]
  },
  {
   "cell_type": "code",
   "execution_count": 98,
   "id": "hybrid-tracker",
   "metadata": {},
   "outputs": [
    {
     "data": {
      "text/plain": [
       "8"
      ]
     },
     "execution_count": 98,
     "metadata": {},
     "output_type": "execute_result"
    }
   ],
   "source": [
    "search.best_num_boost_round"
   ]
  },
  {
   "cell_type": "code",
   "execution_count": 99,
   "id": "conventional-grave",
   "metadata": {},
   "outputs": [
    {
     "data": {
      "text/plain": [
       "{'max_depth': 1, 'eta': 1}"
      ]
     },
     "execution_count": 99,
     "metadata": {},
     "output_type": "execute_result"
    }
   ],
   "source": [
    "search.best_params_"
   ]
  },
  {
   "cell_type": "code",
   "execution_count": 100,
   "id": "worse-alexander",
   "metadata": {},
   "outputs": [
    {
     "data": {
      "text/html": [
       "<div>\n",
       "<style scoped>\n",
       "    .dataframe tbody tr th:only-of-type {\n",
       "        vertical-align: middle;\n",
       "    }\n",
       "\n",
       "    .dataframe tbody tr th {\n",
       "        vertical-align: top;\n",
       "    }\n",
       "\n",
       "    .dataframe thead th {\n",
       "        text-align: right;\n",
       "    }\n",
       "</style>\n",
       "<table border=\"1\" class=\"dataframe\">\n",
       "  <thead>\n",
       "    <tr style=\"text-align: right;\">\n",
       "      <th></th>\n",
       "      <th>score</th>\n",
       "    </tr>\n",
       "    <tr>\n",
       "      <th>max_depth, eta</th>\n",
       "      <th></th>\n",
       "    </tr>\n",
       "  </thead>\n",
       "  <tbody>\n",
       "    <tr>\n",
       "      <th>(1, 1)</th>\n",
       "      <td>0.412205</td>\n",
       "    </tr>\n",
       "    <tr>\n",
       "      <th>(1, 2)</th>\n",
       "      <td>0.430870</td>\n",
       "    </tr>\n",
       "    <tr>\n",
       "      <th>(2, 1)</th>\n",
       "      <td>0.415137</td>\n",
       "    </tr>\n",
       "    <tr>\n",
       "      <th>(2, 2)</th>\n",
       "      <td>0.430870</td>\n",
       "    </tr>\n",
       "  </tbody>\n",
       "</table>\n",
       "</div>"
      ],
      "text/plain": [
       "                   score\n",
       "max_depth, eta          \n",
       "(1, 1)          0.412205\n",
       "(1, 2)          0.430870\n",
       "(2, 1)          0.415137\n",
       "(2, 2)          0.430870"
      ]
     },
     "execution_count": 100,
     "metadata": {},
     "output_type": "execute_result"
    }
   ],
   "source": [
    "search.cv_results_df_"
   ]
  },
  {
   "cell_type": "code",
   "execution_count": 102,
   "id": "combined-schema",
   "metadata": {},
   "outputs": [
    {
     "data": {
      "text/plain": [
       "{'params': {'max_depth': 1, 'eta': 1},\n",
       " 'dtrain': <xgboost.core.DMatrix at 0x2034fdfa2e0>,\n",
       " 'num_boost_round': 100,\n",
       " 'evals': [(<xgboost.core.DMatrix at 0x2034fdfa2e0>, 'train'),\n",
       "  (<xgboost.core.DMatrix at 0x2034fdfa3d0>, 'eval')],\n",
       " 'early_stopping_rounds': 3,\n",
       " 'verbose_eval': False}"
      ]
     },
     "execution_count": 102,
     "metadata": {},
     "output_type": "execute_result"
    }
   ],
   "source": [
    "search.best_xgb_train_params"
   ]
  },
  {
   "cell_type": "code",
   "execution_count": null,
   "id": "multiple-region",
   "metadata": {},
   "outputs": [],
   "source": []
  }
 ],
 "metadata": {
  "kernelspec": {
   "display_name": "Python 3",
   "language": "python",
   "name": "python3"
  },
  "language_info": {
   "codemirror_mode": {
    "name": "ipython",
    "version": 3
   },
   "file_extension": ".py",
   "mimetype": "text/x-python",
   "name": "python",
   "nbconvert_exporter": "python",
   "pygments_lexer": "ipython3",
   "version": "3.8.6"
  }
 },
 "nbformat": 4,
 "nbformat_minor": 5
}

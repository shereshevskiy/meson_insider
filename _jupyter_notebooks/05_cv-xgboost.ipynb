{
 "cells": [
  {
   "cell_type": "markdown",
   "id": "necessary-dayton",
   "metadata": {},
   "source": [
    "# <center>CV Xgboost"
   ]
  },
  {
   "cell_type": "code",
   "execution_count": 1,
   "id": "grand-capture",
   "metadata": {},
   "outputs": [],
   "source": [
    "import os\n",
    "os.chdir(\"..\")\n",
    "\n",
    "%load_ext autoreload\n",
    "%autoreload 2"
   ]
  },
  {
   "cell_type": "code",
   "execution_count": 2,
   "id": "satisfactory-kennedy",
   "metadata": {},
   "outputs": [],
   "source": [
    "from pathlib import Path\n",
    "import pandas as pd\n",
    "import numpy as np\n",
    "import seaborn as sns\n",
    "import matplotlib.pyplot as plt\n",
    "\n",
    "from datetime import timedelta"
   ]
  },
  {
   "cell_type": "code",
   "execution_count": 3,
   "id": "level-israeli",
   "metadata": {},
   "outputs": [],
   "source": [
    "# import warnings\n",
    "# warnings.simplefilter('ignore')\n",
    "\n",
    "pd.set_option('display.max_columns', 500)"
   ]
  },
  {
   "cell_type": "code",
   "execution_count": 4,
   "id": "superior-brown",
   "metadata": {},
   "outputs": [],
   "source": [
    "data_path = Path(\"data\")\n",
    "model_path = Path(\"model_data\")"
   ]
  },
  {
   "cell_type": "markdown",
   "id": "coral-steel",
   "metadata": {},
   "source": [
    "### data"
   ]
  },
  {
   "cell_type": "code",
   "execution_count": 5,
   "id": "european-senegal",
   "metadata": {},
   "outputs": [],
   "source": [
    "example_predictions_name = \"example_predictions.pkl\"\n",
    "test_features_name = \"test_features.pkl\"\n",
    "train_features_name = \"train_features.pkl\"\n",
    "train_outcomes_name = \"train_outcomes.pkl\""
   ]
  },
  {
   "cell_type": "code",
   "execution_count": 6,
   "id": "married-virus",
   "metadata": {},
   "outputs": [],
   "source": [
    "test_features = pd.read_pickle(data_path / test_features_name)\n",
    "train_features = pd.read_pickle(data_path / train_features_name)\n",
    "train_outcomes = pd.read_pickle(data_path / train_outcomes_name)"
   ]
  },
  {
   "cell_type": "code",
   "execution_count": 7,
   "id": "determined-duplicate",
   "metadata": {},
   "outputs": [
    {
     "data": {
      "text/plain": [
       "((627908, 32), (2106808, 32), (2106808, 1))"
      ]
     },
     "execution_count": 7,
     "metadata": {},
     "output_type": "execute_result"
    }
   ],
   "source": [
    "test_features.shape, train_features.shape, train_outcomes.shape"
   ]
  },
  {
   "cell_type": "code",
   "execution_count": 8,
   "id": "timely-process",
   "metadata": {},
   "outputs": [],
   "source": [
    "from dataprocessing.process import StandardScaler, SmartLogtransformer, TrainTestSplit, Pipeline\n",
    "from dataprocessing.impute import SimpleImputer"
   ]
  },
  {
   "cell_type": "code",
   "execution_count": 9,
   "id": "grave-percentage",
   "metadata": {},
   "outputs": [],
   "source": [
    "train_test_split = TrainTestSplit(test_size=0.2)\n",
    "X_train, X_val, y_train, y_val = train_test_split(train_features, train_outcomes)"
   ]
  },
  {
   "cell_type": "markdown",
   "id": "destroyed-origin",
   "metadata": {},
   "source": [
    "### Pipeline for data processing"
   ]
  },
  {
   "cell_type": "code",
   "execution_count": 10,
   "id": "flying-commission",
   "metadata": {},
   "outputs": [
    {
     "data": {
      "text/plain": [
       "[(imputer, <dataprocessing.impute.SimpleImputer>), \n",
       "(logtransformer, <dataprocessing.process.SmartLogtransformer>), \n",
       "(scaler, <dataprocessing.process.StandardScaler>)]"
      ]
     },
     "execution_count": 10,
     "metadata": {},
     "output_type": "execute_result"
    }
   ],
   "source": [
    "pipe = Pipeline(\n",
    "    [\n",
    "        (\"imputer\", SimpleImputer(strategy=\"median\")), \n",
    "        (\"logtransformer\", SmartLogtransformer()), \n",
    "        (\"scaler\", StandardScaler())\n",
    "    ]\n",
    ")\n",
    "pipe"
   ]
  },
  {
   "cell_type": "code",
   "execution_count": 11,
   "id": "parallel-casino",
   "metadata": {},
   "outputs": [
    {
     "name": "stdout",
     "output_type": "stream",
     "text": [
      "Wall time: 5.15 s\n"
     ]
    }
   ],
   "source": [
    "%%time\n",
    "X_train = pipe.fit_transform(X_train)\n",
    "X_val = pipe.transform(X_val)\n",
    "X_test = pipe.transform(test_features)"
   ]
  },
  {
   "cell_type": "markdown",
   "id": "incorporated-composite",
   "metadata": {},
   "source": [
    "## <center>XGBOOST"
   ]
  },
  {
   "cell_type": "markdown",
   "id": "virtual-finish",
   "metadata": {},
   "source": [
    "# <center>Parameter Tuning"
   ]
  },
  {
   "cell_type": "code",
   "execution_count": 12,
   "id": "weekly-chain",
   "metadata": {},
   "outputs": [],
   "source": [
    "import xgboost as xgb\n",
    "from xgboost.sklearn import XGBClassifier"
   ]
  },
  {
   "cell_type": "markdown",
   "id": "developed-dietary",
   "metadata": {},
   "source": [
    "#### data"
   ]
  },
  {
   "cell_type": "code",
   "execution_count": 13,
   "id": "czech-contribution",
   "metadata": {},
   "outputs": [],
   "source": [
    "train_len = len(X_train)\n",
    "val_len = len(X_val)\n",
    "dtrain = xgb.DMatrix(pd.concat([X_train, X_val]), label=pd.concat([y_train, y_val]))\n",
    "train_ind = range(train_len)\n",
    "val_ind = range(train_len, train_len + val_len)\n",
    "dtest = xgb.DMatrix(X_test)"
   ]
  },
  {
   "cell_type": "markdown",
   "id": "ordinary-barbados",
   "metadata": {},
   "source": [
    "#### Setting Parameters"
   ]
  },
  {
   "cell_type": "code",
   "execution_count": 24,
   "id": "sealed-single",
   "metadata": {},
   "outputs": [],
   "source": [
    "params = dict(\n",
    "    max_depth = 3, \n",
    "    eta = 1, \n",
    "    objective = 'binary:logistic', \n",
    "    eval_metric = 'error'\n",
    ")"
   ]
  },
  {
   "cell_type": "code",
   "execution_count": 25,
   "id": "imperial-console",
   "metadata": {},
   "outputs": [],
   "source": [
    "cv = xgb.cv(\n",
    "    params = params, \n",
    "    dtrain = dtrain,\n",
    "    num_boost_round = 20, \n",
    "    nfold = 1, \n",
    "    folds = [(train_ind, val_ind)], \n",
    "    metrics = \"error\", \n",
    "    early_stopping_rounds = 3\n",
    ")"
   ]
  },
  {
   "cell_type": "code",
   "execution_count": 26,
   "id": "warming-mechanics",
   "metadata": {},
   "outputs": [
    {
     "data": {
      "text/html": [
       "<div>\n",
       "<style scoped>\n",
       "    .dataframe tbody tr th:only-of-type {\n",
       "        vertical-align: middle;\n",
       "    }\n",
       "\n",
       "    .dataframe tbody tr th {\n",
       "        vertical-align: top;\n",
       "    }\n",
       "\n",
       "    .dataframe thead th {\n",
       "        text-align: right;\n",
       "    }\n",
       "</style>\n",
       "<table border=\"1\" class=\"dataframe\">\n",
       "  <thead>\n",
       "    <tr style=\"text-align: right;\">\n",
       "      <th></th>\n",
       "      <th>train-error-mean</th>\n",
       "      <th>train-error-std</th>\n",
       "      <th>test-error-mean</th>\n",
       "      <th>test-error-std</th>\n",
       "    </tr>\n",
       "  </thead>\n",
       "  <tbody>\n",
       "    <tr>\n",
       "      <th>0</th>\n",
       "      <td>0.440070</td>\n",
       "      <td>0.0</td>\n",
       "      <td>0.418982</td>\n",
       "      <td>0.0</td>\n",
       "    </tr>\n",
       "    <tr>\n",
       "      <th>1</th>\n",
       "      <td>0.432775</td>\n",
       "      <td>0.0</td>\n",
       "      <td>0.419302</td>\n",
       "      <td>0.0</td>\n",
       "    </tr>\n",
       "    <tr>\n",
       "      <th>2</th>\n",
       "      <td>0.430596</td>\n",
       "      <td>0.0</td>\n",
       "      <td>0.419746</td>\n",
       "      <td>0.0</td>\n",
       "    </tr>\n",
       "    <tr>\n",
       "      <th>3</th>\n",
       "      <td>0.429426</td>\n",
       "      <td>0.0</td>\n",
       "      <td>0.417728</td>\n",
       "      <td>0.0</td>\n",
       "    </tr>\n",
       "    <tr>\n",
       "      <th>4</th>\n",
       "      <td>0.428041</td>\n",
       "      <td>0.0</td>\n",
       "      <td>0.418530</td>\n",
       "      <td>0.0</td>\n",
       "    </tr>\n",
       "    <tr>\n",
       "      <th>5</th>\n",
       "      <td>0.428009</td>\n",
       "      <td>0.0</td>\n",
       "      <td>0.418452</td>\n",
       "      <td>0.0</td>\n",
       "    </tr>\n",
       "    <tr>\n",
       "      <th>6</th>\n",
       "      <td>0.426783</td>\n",
       "      <td>0.0</td>\n",
       "      <td>0.415939</td>\n",
       "      <td>0.0</td>\n",
       "    </tr>\n",
       "    <tr>\n",
       "      <th>7</th>\n",
       "      <td>0.426221</td>\n",
       "      <td>0.0</td>\n",
       "      <td>0.415573</td>\n",
       "      <td>0.0</td>\n",
       "    </tr>\n",
       "    <tr>\n",
       "      <th>8</th>\n",
       "      <td>0.425846</td>\n",
       "      <td>0.0</td>\n",
       "      <td>0.414827</td>\n",
       "      <td>0.0</td>\n",
       "    </tr>\n",
       "    <tr>\n",
       "      <th>9</th>\n",
       "      <td>0.425375</td>\n",
       "      <td>0.0</td>\n",
       "      <td>0.414966</td>\n",
       "      <td>0.0</td>\n",
       "    </tr>\n",
       "    <tr>\n",
       "      <th>10</th>\n",
       "      <td>0.424835</td>\n",
       "      <td>0.0</td>\n",
       "      <td>0.414942</td>\n",
       "      <td>0.0</td>\n",
       "    </tr>\n",
       "    <tr>\n",
       "      <th>11</th>\n",
       "      <td>0.424523</td>\n",
       "      <td>0.0</td>\n",
       "      <td>0.414731</td>\n",
       "      <td>0.0</td>\n",
       "    </tr>\n",
       "  </tbody>\n",
       "</table>\n",
       "</div>"
      ],
      "text/plain": [
       "    train-error-mean  train-error-std  test-error-mean  test-error-std\n",
       "0           0.440070              0.0         0.418982             0.0\n",
       "1           0.432775              0.0         0.419302             0.0\n",
       "2           0.430596              0.0         0.419746             0.0\n",
       "3           0.429426              0.0         0.417728             0.0\n",
       "4           0.428041              0.0         0.418530             0.0\n",
       "5           0.428009              0.0         0.418452             0.0\n",
       "6           0.426783              0.0         0.415939             0.0\n",
       "7           0.426221              0.0         0.415573             0.0\n",
       "8           0.425846              0.0         0.414827             0.0\n",
       "9           0.425375              0.0         0.414966             0.0\n",
       "10          0.424835              0.0         0.414942             0.0\n",
       "11          0.424523              0.0         0.414731             0.0"
      ]
     },
     "execution_count": 26,
     "metadata": {},
     "output_type": "execute_result"
    }
   ],
   "source": [
    "cv"
   ]
  },
  {
   "cell_type": "markdown",
   "id": "gorgeous-norway",
   "metadata": {},
   "source": [
    "## GridSearchCVXgb"
   ]
  },
  {
   "cell_type": "code",
   "execution_count": 48,
   "id": "soviet-extraction",
   "metadata": {},
   "outputs": [],
   "source": [
    "from dataprocessing.process import GridSearchCVXgb"
   ]
  },
  {
   "cell_type": "code",
   "execution_count": 49,
   "id": "isolated-acrylic",
   "metadata": {},
   "outputs": [],
   "source": [
    "dtrain = xgb.DMatrix(X_train, label=y_train)\n",
    "dval = xgb.DMatrix(X_val, label=y_val)\n",
    "dtest = xgb.DMatrix(X_test)"
   ]
  },
  {
   "cell_type": "code",
   "execution_count": 50,
   "id": "permanent-weekend",
   "metadata": {},
   "outputs": [],
   "source": [
    "evals = [(dtrain, 'train'), (dval, 'eval')]"
   ]
  },
  {
   "cell_type": "code",
   "execution_count": 51,
   "id": "expected-sunday",
   "metadata": {},
   "outputs": [],
   "source": [
    "xgb_train_params = dict(\n",
    "    params = params, \n",
    "    dtrain = dtrain, \n",
    "    num_boost_round = 100, \n",
    "    evals = evals, \n",
    "    early_stopping_rounds=3, \n",
    "    verbose_eval=False\n",
    ")"
   ]
  },
  {
   "cell_type": "code",
   "execution_count": 52,
   "id": "blond-space",
   "metadata": {},
   "outputs": [],
   "source": [
    "param_grid = dict(\n",
    "    max_depth = [2, 3], \n",
    "    eta = [1, 2]\n",
    ")"
   ]
  },
  {
   "cell_type": "code",
   "execution_count": 53,
   "id": "quantitative-newcastle",
   "metadata": {},
   "outputs": [],
   "source": [
    "search = GridSearchCVXgb(\n",
    "    xgb_train_params = xgb_train_params,\n",
    "    param_grid = param_grid,\n",
    ")"
   ]
  },
  {
   "cell_type": "code",
   "execution_count": 54,
   "id": "mechanical-infection",
   "metadata": {},
   "outputs": [
    {
     "name": "stdout",
     "output_type": "stream",
     "text": [
      "Wall time: 30 s\n"
     ]
    }
   ],
   "source": [
    "%%time\n",
    "search.fit()"
   ]
  },
  {
   "cell_type": "code",
   "execution_count": 55,
   "id": "beneficial-disclaimer",
   "metadata": {},
   "outputs": [
    {
     "data": {
      "text/plain": [
       "0.414731"
      ]
     },
     "execution_count": 55,
     "metadata": {},
     "output_type": "execute_result"
    }
   ],
   "source": [
    "search.best_score_"
   ]
  },
  {
   "cell_type": "code",
   "execution_count": 56,
   "id": "corrected-diversity",
   "metadata": {},
   "outputs": [
    {
     "data": {
      "text/plain": [
       "12"
      ]
     },
     "execution_count": 56,
     "metadata": {},
     "output_type": "execute_result"
    }
   ],
   "source": [
    "search.best_num_boost_round"
   ]
  },
  {
   "cell_type": "code",
   "execution_count": 57,
   "id": "gross-spell",
   "metadata": {},
   "outputs": [
    {
     "data": {
      "text/plain": [
       "{'max_depth': 3, 'eta': 1}"
      ]
     },
     "execution_count": 57,
     "metadata": {},
     "output_type": "execute_result"
    }
   ],
   "source": [
    "search.best_params_"
   ]
  },
  {
   "cell_type": "code",
   "execution_count": null,
   "id": "manual-rachel",
   "metadata": {},
   "outputs": [],
   "source": []
  }
 ],
 "metadata": {
  "kernelspec": {
   "display_name": "Python 3",
   "language": "python",
   "name": "python3"
  },
  "language_info": {
   "codemirror_mode": {
    "name": "ipython",
    "version": 3
   },
   "file_extension": ".py",
   "mimetype": "text/x-python",
   "name": "python",
   "nbconvert_exporter": "python",
   "pygments_lexer": "ipython3",
   "version": "3.8.6"
  }
 },
 "nbformat": 4,
 "nbformat_minor": 5
}

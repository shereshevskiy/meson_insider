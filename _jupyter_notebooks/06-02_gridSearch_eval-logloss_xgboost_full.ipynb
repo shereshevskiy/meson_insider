{
 "cells": [
  {
   "cell_type": "markdown",
   "id": "continued-kennedy",
   "metadata": {},
   "source": [
    "# <center>Xgboost GridSearch: eval logloss"
   ]
  },
  {
   "cell_type": "code",
   "execution_count": 1,
   "id": "textile-indie",
   "metadata": {},
   "outputs": [],
   "source": [
    "import os\n",
    "os.chdir(\"..\")\n",
    "\n",
    "%load_ext autoreload\n",
    "%autoreload 2"
   ]
  },
  {
   "cell_type": "code",
   "execution_count": 2,
   "id": "addressed-kuwait",
   "metadata": {},
   "outputs": [],
   "source": [
    "from pathlib import Path\n",
    "import pandas as pd\n",
    "import numpy as np\n",
    "import seaborn as sns\n",
    "import matplotlib.pyplot as plt\n",
    "\n",
    "from datetime import timedelta"
   ]
  },
  {
   "cell_type": "code",
   "execution_count": 3,
   "id": "congressional-injection",
   "metadata": {},
   "outputs": [],
   "source": [
    "# import warnings\n",
    "# warnings.simplefilter('ignore')\n",
    "\n",
    "pd.set_option('display.max_columns', 500)"
   ]
  },
  {
   "cell_type": "code",
   "execution_count": 4,
   "id": "valued-bulletin",
   "metadata": {},
   "outputs": [],
   "source": [
    "data_path = Path(\"data\")\n",
    "model_path = Path(\"model_data\")"
   ]
  },
  {
   "cell_type": "markdown",
   "id": "standard-mountain",
   "metadata": {},
   "source": [
    "### data"
   ]
  },
  {
   "cell_type": "code",
   "execution_count": 5,
   "id": "hybrid-notice",
   "metadata": {},
   "outputs": [],
   "source": [
    "example_predictions_name = \"example_predictions.pkl\"\n",
    "test_features_name = \"test_features.pkl\"\n",
    "train_features_name = \"train_features.pkl\"\n",
    "train_outcomes_name = \"train_outcomes.pkl\""
   ]
  },
  {
   "cell_type": "code",
   "execution_count": 6,
   "id": "naked-knight",
   "metadata": {},
   "outputs": [],
   "source": [
    "example_predictions = pd.read_pickle(data_path / example_predictions_name)"
   ]
  },
  {
   "cell_type": "code",
   "execution_count": 7,
   "id": "broad-civilian",
   "metadata": {},
   "outputs": [],
   "source": [
    "test_features = pd.read_pickle(data_path / test_features_name)\n",
    "train_features = pd.read_pickle(data_path / train_features_name)\n",
    "train_outcomes = pd.read_pickle(data_path / train_outcomes_name)"
   ]
  },
  {
   "cell_type": "code",
   "execution_count": 8,
   "id": "southeast-clinic",
   "metadata": {},
   "outputs": [
    {
     "data": {
      "text/plain": [
       "((627908, 32), (2106808, 32), (2106808, 1))"
      ]
     },
     "execution_count": 8,
     "metadata": {},
     "output_type": "execute_result"
    }
   ],
   "source": [
    "test_features.shape, train_features.shape, train_outcomes.shape"
   ]
  },
  {
   "cell_type": "code",
   "execution_count": 9,
   "id": "adjustable-robertson",
   "metadata": {},
   "outputs": [],
   "source": [
    "from dataprocessing.process import StandardScaler, SmartLogtransformer, TrainTestSplit, Pipeline\n",
    "from dataprocessing.impute import SimpleImputer"
   ]
  },
  {
   "cell_type": "code",
   "execution_count": 10,
   "id": "amended-schedule",
   "metadata": {},
   "outputs": [],
   "source": [
    "train_test_split = TrainTestSplit(test_size=0.2)\n",
    "X_train, X_val, y_train, y_val = train_test_split(train_features, train_outcomes)"
   ]
  },
  {
   "cell_type": "markdown",
   "id": "described-player",
   "metadata": {},
   "source": [
    "### Pipeline for data processing"
   ]
  },
  {
   "cell_type": "code",
   "execution_count": 11,
   "id": "original-elizabeth",
   "metadata": {},
   "outputs": [
    {
     "data": {
      "text/plain": [
       "[(imputer, <dataprocessing.impute.SimpleImputer>), \n",
       "(logtransformer, <dataprocessing.process.SmartLogtransformer>), \n",
       "(scaler, <dataprocessing.process.StandardScaler>)]"
      ]
     },
     "execution_count": 11,
     "metadata": {},
     "output_type": "execute_result"
    }
   ],
   "source": [
    "pipe = Pipeline(\n",
    "    [\n",
    "        (\"imputer\", SimpleImputer(strategy=\"median\")), \n",
    "        (\"logtransformer\", SmartLogtransformer()), \n",
    "        (\"scaler\", StandardScaler())\n",
    "    ]\n",
    ")\n",
    "pipe"
   ]
  },
  {
   "cell_type": "code",
   "execution_count": 12,
   "id": "outer-series",
   "metadata": {},
   "outputs": [
    {
     "name": "stdout",
     "output_type": "stream",
     "text": [
      "Wall time: 5.25 s\n"
     ]
    }
   ],
   "source": [
    "%%time\n",
    "X_train = pipe.fit_transform(X_train)\n",
    "X_val = pipe.transform(X_val)\n",
    "X_test = pipe.transform(test_features)"
   ]
  },
  {
   "cell_type": "markdown",
   "id": "driving-alberta",
   "metadata": {},
   "source": [
    "## <center>XGBOOST"
   ]
  },
  {
   "cell_type": "markdown",
   "id": "still-calendar",
   "metadata": {},
   "source": [
    "# <center>Parameters Tuning"
   ]
  },
  {
   "cell_type": "markdown",
   "id": "spatial-vegetation",
   "metadata": {},
   "source": [
    "## GridSearchXgb"
   ]
  },
  {
   "cell_type": "code",
   "execution_count": 13,
   "id": "boring-stroke",
   "metadata": {},
   "outputs": [],
   "source": [
    "import xgboost as xgb"
   ]
  },
  {
   "cell_type": "markdown",
   "id": "dental-military",
   "metadata": {},
   "source": [
    "#### Setting Parameters"
   ]
  },
  {
   "cell_type": "code",
   "execution_count": 14,
   "id": "asian-mystery",
   "metadata": {},
   "outputs": [],
   "source": [
    "from dataprocessing.process import GridSearchXgb"
   ]
  },
  {
   "cell_type": "code",
   "execution_count": 15,
   "id": "hundred-solomon",
   "metadata": {},
   "outputs": [],
   "source": [
    "dtrain = xgb.DMatrix(X_train, label=y_train)\n",
    "dval = xgb.DMatrix(X_val, label=y_val)\n",
    "dtest = xgb.DMatrix(X_test)"
   ]
  },
  {
   "cell_type": "code",
   "execution_count": 16,
   "id": "commercial-proof",
   "metadata": {},
   "outputs": [],
   "source": [
    "evals = [(dtrain, 'train'), (dval, 'eval')]"
   ]
  },
  {
   "cell_type": "code",
   "execution_count": 17,
   "id": "looking-illinois",
   "metadata": {},
   "outputs": [],
   "source": [
    "params = dict(\n",
    "    objective = 'binary:logistic', \n",
    "    eval_metric = 'logloss'\n",
    ")"
   ]
  },
  {
   "cell_type": "code",
   "execution_count": 18,
   "id": "fifty-control",
   "metadata": {},
   "outputs": [],
   "source": [
    "xgb_train_params = dict(\n",
    "    params = params, \n",
    "    dtrain = dtrain, \n",
    "    num_boost_round = 100, \n",
    "    evals = evals, \n",
    "    early_stopping_rounds=3, \n",
    "    verbose_eval=False\n",
    ")"
   ]
  },
  {
   "cell_type": "code",
   "execution_count": 19,
   "id": "changing-identifier",
   "metadata": {},
   "outputs": [],
   "source": [
    "param_grid_total = dict(\n",
    "    eta = [0.01, 0.05, 0.1, 0.5, 1, 2, 3],\n",
    "    max_depth = range(3, 10),\n",
    "    min_child_weight = range(1, 8), \n",
    "    subsample = [0.5, 1], \n",
    "    colsample_bytree = [0.5, 1], \n",
    "    alpha = [0.3, 0.65, 1]\n",
    ")"
   ]
  },
  {
   "cell_type": "code",
   "execution_count": 20,
   "id": "accompanied-acquisition",
   "metadata": {},
   "outputs": [],
   "source": [
    "def params_tunning(param_grid_total):\n",
    "    for param in param_grid_total:\n",
    "        param_grid = {param: param_grid_total[param]}\n",
    "        search = GridSearchXgb(\n",
    "            xgb_train_params = xgb_train_params,\n",
    "            param_grid = param_grid,\n",
    "        )\n",
    "        search.fit()\n",
    "        print(f\"best_params: {search.best_params_}, best score: {search.best_score_}, best num round: {search.best_num_boost_round}\")\n",
    "        # set params\n",
    "        for key in search.best_params_:\n",
    "            params[key] = search.best_params_[key]\n",
    "    return search.best_score_, params"
   ]
  },
  {
   "cell_type": "code",
   "execution_count": 22,
   "id": "artificial-party",
   "metadata": {},
   "outputs": [
    {
     "name": "stdout",
     "output_type": "stream",
     "text": [
      "best_params: {'eta': 0.05}, best score: 0.669052, best num round: 78\n",
      "best_params: {'max_depth': 6}, best score: 0.669052, best num round: 78\n",
      "best_params: {'min_child_weight': 7}, best score: 0.669034, best num round: 80\n",
      "best_params: {'subsample': 1}, best score: 0.669034, best num round: 80\n",
      "best_params: {'colsample_bytree': 0.5}, best score: 0.6686, best num round: 81\n",
      "best_params: {'alpha': 0.65}, best score: 0.6688, best num round: 86\n",
      "Wall time: 1h 14min 5s\n"
     ]
    }
   ],
   "source": [
    "%%time\n",
    "best_score, best_params = params_tunning(param_grid_total)"
   ]
  },
  {
   "cell_type": "code",
   "execution_count": 23,
   "id": "brazilian-digit",
   "metadata": {},
   "outputs": [
    {
     "name": "stdout",
     "output_type": "stream",
     "text": [
      "best logloss: 0.6688\n"
     ]
    }
   ],
   "source": [
    "print(\"best logloss:\", best_score)"
   ]
  },
  {
   "cell_type": "code",
   "execution_count": 24,
   "id": "considered-christmas",
   "metadata": {},
   "outputs": [
    {
     "data": {
      "text/plain": [
       "{'objective': 'binary:logistic',\n",
       " 'eval_metric': 'logloss',\n",
       " 'eta': 0.05,\n",
       " 'max_depth': 6,\n",
       " 'min_child_weight': 7,\n",
       " 'subsample': 1,\n",
       " 'colsample_bytree': 0.5,\n",
       " 'alpha': 0.65}"
      ]
     },
     "execution_count": 24,
     "metadata": {},
     "output_type": "execute_result"
    }
   ],
   "source": [
    "best_params"
   ]
  },
  {
   "cell_type": "code",
   "execution_count": 27,
   "id": "contemporary-railway",
   "metadata": {},
   "outputs": [
    {
     "data": {
      "text/plain": [
       "86"
      ]
     },
     "execution_count": 27,
     "metadata": {},
     "output_type": "execute_result"
    }
   ],
   "source": [
    "bst.best_ntree_limit"
   ]
  },
  {
   "cell_type": "code",
   "execution_count": 25,
   "id": "historic-bruce",
   "metadata": {},
   "outputs": [],
   "source": [
    "xgb_train_params[\"params\"] = best_params"
   ]
  },
  {
   "cell_type": "code",
   "execution_count": 26,
   "id": "unique-lincoln",
   "metadata": {},
   "outputs": [],
   "source": [
    "bst = xgb.train(**xgb_train_params)"
   ]
  },
  {
   "cell_type": "code",
   "execution_count": 28,
   "id": "neutral-helen",
   "metadata": {},
   "outputs": [
    {
     "data": {
      "image/png": "[encoded data removed]",
      "text/plain": [
       "<Figure size 432x288 with 1 Axes>"
      ]
     },
     "metadata": {
      "needs_background": "light"
     },
     "output_type": "display_data"
    }
   ],
   "source": [
    "xgb.plot_importance(bst);"
   ]
  },
  {
   "cell_type": "code",
   "execution_count": 47,
   "id": "junior-origin",
   "metadata": {},
   "outputs": [],
   "source": [
    "y_val_pred_proba = bst.predict(dval, ntree_limit=bst.best_ntree_limit)\n",
    "y_val_pred_label = (y_val_pred_proba > 0.5) * 1"
   ]
  },
  {
   "cell_type": "code",
   "execution_count": 44,
   "id": "spoken-treasure",
   "metadata": {},
   "outputs": [],
   "source": [
    "def get_acc(y_pred: np.array, y_true: pd.Series):\n",
    "    tp = sum(y_pred.flatten() == y_true.values.flatten())\n",
    "    return tp / len(y_true)"
   ]
  },
  {
   "cell_type": "code",
   "execution_count": 48,
   "id": "white-excess",
   "metadata": {},
   "outputs": [
    {
     "name": "stdout",
     "output_type": "stream",
     "text": [
      "accuracy = 0.5936822462886673\n"
     ]
    }
   ],
   "source": [
    "print(f\"accuracy = {get_acc(y_val_pred_label, y_val)}\")"
   ]
  },
  {
   "cell_type": "markdown",
   "id": "standard-hanging",
   "metadata": {},
   "source": [
    "## <center>calibration_curve"
   ]
  },
  {
   "cell_type": "code",
   "execution_count": 46,
   "id": "lonely-biography",
   "metadata": {},
   "outputs": [],
   "source": [
    "from sklearn.calibration import calibration_curve, CalibratedClassifierCV\n",
    "from sklearn.metrics import brier_score_loss"
   ]
  },
  {
   "cell_type": "code",
   "execution_count": 49,
   "id": "reflected-somewhere",
   "metadata": {},
   "outputs": [],
   "source": [
    "fraction_of_positives, mean_predicted_value = calibration_curve(y_val.values, y_val_pred_proba, n_bins=10)"
   ]
  },
  {
   "cell_type": "code",
   "execution_count": 50,
   "id": "bearing-american",
   "metadata": {},
   "outputs": [
    {
     "data": {
      "image/png": "[encoded data removed]",
      "text/plain": [
       "<Figure size 432x288 with 1 Axes>"
      ]
     },
     "metadata": {
      "needs_background": "light"
     },
     "output_type": "display_data"
    }
   ],
   "source": [
    "plt.plot(mean_predicted_value, fraction_of_positives)\n",
    "plt.plot(range(0, 2), range(0, 2), 'ro--')\n",
    "plt.xlim(0, 1)\n",
    "plt.ylim(0, 1);"
   ]
  },
  {
   "cell_type": "code",
   "execution_count": 52,
   "id": "radical-birthday",
   "metadata": {},
   "outputs": [
    {
     "name": "stdout",
     "output_type": "stream",
     "text": [
      "Brier score losses: (the smaller the better)\n",
      "No calibration: 0.238\n"
     ]
    }
   ],
   "source": [
    "print(\"Brier score losses: (the smaller the better)\")\n",
    "clf_brier_score = brier_score_loss(y_val.values, y_val_pred_proba)\n",
    "print(\"No calibration: %1.3f\" % clf_brier_score)"
   ]
  },
  {
   "cell_type": "markdown",
   "id": "otherwise-equivalent",
   "metadata": {},
   "source": [
    "### Calibrating of Classifier\n",
    "(CalibratedClassifierCV)"
   ]
  },
  {
   "cell_type": "code",
   "execution_count": 53,
   "id": "front-spank",
   "metadata": {},
   "outputs": [
    {
     "data": {
      "text/plain": [
       "{'objective': 'binary:logistic',\n",
       " 'eval_metric': 'logloss',\n",
       " 'eta': 0.05,\n",
       " 'max_depth': 6,\n",
       " 'min_child_weight': 7,\n",
       " 'subsample': 1,\n",
       " 'colsample_bytree': 0.5,\n",
       " 'alpha': 0.65}"
      ]
     },
     "execution_count": 53,
     "metadata": {},
     "output_type": "execute_result"
    }
   ],
   "source": [
    "best_params"
   ]
  },
  {
   "cell_type": "code",
   "execution_count": 55,
   "id": "quarterly-reward",
   "metadata": {},
   "outputs": [
    {
     "data": {
      "text/plain": [
       "XGBClassifier(alpha=0.65, base_score=0.5, booster='gbtree', colsample_bylevel=1,\n",
       "              colsample_bynode=1, colsample_bytree=0.5, eta=0.05,\n",
       "              eval_metric='logloss', gamma=0, gpu_id=-1, importance_type='gain',\n",
       "              interaction_constraints='', learning_rate=0.0500000007,\n",
       "              max_delta_step=0, max_depth=6, min_child_weight=7, missing=nan,\n",
       "              monotone_constraints='()', n_estimators=86, n_jobs=8,\n",
       "              num_parallel_tree=1, random_state=0, reg_alpha=0.649999976,\n",
       "              reg_lambda=1, scale_pos_weight=1, subsample=1,\n",
       "              tree_method='exact', use_label_encoder=False,\n",
       "              validate_parameters=1, verbosity=None)"
      ]
     },
     "execution_count": 55,
     "metadata": {},
     "output_type": "execute_result"
    }
   ],
   "source": [
    "clf = xgb.XGBClassifier(use_label_encoder=False, n_estimators=bst.best_ntree_limit, **best_params)\n",
    "clf.fit(X_train.values, y_train.values.ravel())"
   ]
  },
  {
   "cell_type": "code",
   "execution_count": 56,
   "id": "different-emphasis",
   "metadata": {},
   "outputs": [],
   "source": [
    "calibrated_clf = CalibratedClassifierCV(base_estimator=clf, cv=\"prefit\", method='isotonic')"
   ]
  },
  {
   "cell_type": "code",
   "execution_count": 57,
   "id": "french-image",
   "metadata": {},
   "outputs": [
    {
     "data": {
      "text/plain": [
       "CalibratedClassifierCV(base_estimator=XGBClassifier(alpha=0.65, base_score=0.5,\n",
       "                                                    booster='gbtree',\n",
       "                                                    colsample_bylevel=1,\n",
       "                                                    colsample_bynode=1,\n",
       "                                                    colsample_bytree=0.5,\n",
       "                                                    eta=0.05,\n",
       "                                                    eval_metric='logloss',\n",
       "                                                    gamma=0, gpu_id=-1,\n",
       "                                                    importance_type='gain',\n",
       "                                                    interaction_constraints='',\n",
       "                                                    learning_rate=0.0500000007,\n",
       "                                                    max_delta_step=0,\n",
       "                                                    max_depth=6,\n",
       "                                                    min_child_weight=7,\n",
       "                                                    missing=nan,\n",
       "                                                    monotone_constraints='()',\n",
       "                                                    n_estimators=86, n_jobs=8,\n",
       "                                                    num_parallel_tree=1,\n",
       "                                                    random_state=0,\n",
       "                                                    reg_alpha=0.649999976,\n",
       "                                                    reg_lambda=1,\n",
       "                                                    scale_pos_weight=1,\n",
       "                                                    subsample=1,\n",
       "                                                    tree_method='exact',\n",
       "                                                    use_label_encoder=False,\n",
       "                                                    validate_parameters=1,\n",
       "                                                    verbosity=None),\n",
       "                       cv='prefit', method='isotonic')"
      ]
     },
     "execution_count": 57,
     "metadata": {},
     "output_type": "execute_result"
    }
   ],
   "source": [
    "calibrated_clf.fit(X_val.values, y_val.values)"
   ]
  },
  {
   "cell_type": "code",
   "execution_count": 60,
   "id": "norwegian-communication",
   "metadata": {},
   "outputs": [
    {
     "name": "stdout",
     "output_type": "stream",
     "text": [
      "calibrated accuracy: 0.5959011594489609\n"
     ]
    }
   ],
   "source": [
    "print(f\"calibrated accuracy: {calibrated_clf.score(X_val, y_val)}\")"
   ]
  },
  {
   "cell_type": "code",
   "execution_count": 61,
   "id": "alleged-southwest",
   "metadata": {},
   "outputs": [],
   "source": [
    "y_val_proba_clbr = calibrated_clf.predict_proba(X_val.values)"
   ]
  },
  {
   "cell_type": "code",
   "execution_count": 62,
   "id": "headed-minneapolis",
   "metadata": {},
   "outputs": [
    {
     "data": {
      "image/png": "[encoded data removed]",
      "text/plain": [
       "<Figure size 432x288 with 1 Axes>"
      ]
     },
     "metadata": {
      "needs_background": "light"
     },
     "output_type": "display_data"
    }
   ],
   "source": [
    "fraction_of_positives, mean_predicted_value = calibration_curve(y_val.values, y_val_proba_clbr[:, 1], n_bins=10)\n",
    "\n",
    "plt.plot(mean_predicted_value, fraction_of_positives)\n",
    "plt.plot(np.linspace(0, 1, 20), np.linspace(0, 1, 20), 'rx')\n",
    "plt.xlim(0, 1)\n",
    "plt.ylim(0, 1);"
   ]
  },
  {
   "cell_type": "code",
   "execution_count": 63,
   "id": "spread-professional",
   "metadata": {},
   "outputs": [
    {
     "name": "stdout",
     "output_type": "stream",
     "text": [
      "Isotonic calibration: 0.237\n"
     ]
    }
   ],
   "source": [
    "clf_brier_score = brier_score_loss(y_val.values, y_val_proba_clbr[:, 1])\n",
    "print(\"Isotonic calibration: %1.3f\" % clf_brier_score)"
   ]
  },
  {
   "cell_type": "markdown",
   "id": "precise-commission",
   "metadata": {},
   "source": [
    "## Submit"
   ]
  },
  {
   "cell_type": "code",
   "execution_count": 64,
   "id": "progressive-corpus",
   "metadata": {},
   "outputs": [],
   "source": [
    "def make_submit(sk_clf, test_features, pipe, col_name=\"g__12m_binary\"):\n",
    "    X_test = pipe.transform(test_features)\n",
    "    y_test_proba = sk_clf.predict_proba(X_test.values)\n",
    "    df_y_test_proba = pd.DataFrame({col_name: y_test_proba[:, 1]}, index=X_test.index)\n",
    "    return df_y_test_proba"
   ]
  },
  {
   "cell_type": "code",
   "execution_count": 65,
   "id": "racial-nomination",
   "metadata": {},
   "outputs": [],
   "source": [
    "test_xgb_submit = make_submit(calibrated_clf, test_features, pipe)"
   ]
  },
  {
   "cell_type": "code",
   "execution_count": 66,
   "id": "familiar-shade",
   "metadata": {},
   "outputs": [
    {
     "data": {
      "text/html": [
       "<div>\n",
       "<style scoped>\n",
       "    .dataframe tbody tr th:only-of-type {\n",
       "        vertical-align: middle;\n",
       "    }\n",
       "\n",
       "    .dataframe tbody tr th {\n",
       "        vertical-align: top;\n",
       "    }\n",
       "\n",
       "    .dataframe thead th {\n",
       "        text-align: right;\n",
       "    }\n",
       "</style>\n",
       "<table border=\"1\" class=\"dataframe\">\n",
       "  <thead>\n",
       "    <tr style=\"text-align: right;\">\n",
       "      <th></th>\n",
       "      <th></th>\n",
       "      <th>g__12m_binary</th>\n",
       "    </tr>\n",
       "    <tr>\n",
       "      <th>date</th>\n",
       "      <th>tradingitemid</th>\n",
       "      <th></th>\n",
       "    </tr>\n",
       "  </thead>\n",
       "  <tbody>\n",
       "    <tr>\n",
       "      <th rowspan=\"5\" valign=\"top\">2016-01-01</th>\n",
       "      <th>2585893</th>\n",
       "      <td>0.594752</td>\n",
       "    </tr>\n",
       "    <tr>\n",
       "      <th>2585895</th>\n",
       "      <td>0.564853</td>\n",
       "    </tr>\n",
       "    <tr>\n",
       "      <th>2586016</th>\n",
       "      <td>0.621625</td>\n",
       "    </tr>\n",
       "    <tr>\n",
       "      <th>2586068</th>\n",
       "      <td>0.442497</td>\n",
       "    </tr>\n",
       "    <tr>\n",
       "      <th>2586084</th>\n",
       "      <td>0.564853</td>\n",
       "    </tr>\n",
       "    <tr>\n",
       "      <th>...</th>\n",
       "      <th>...</th>\n",
       "      <td>...</td>\n",
       "    </tr>\n",
       "    <tr>\n",
       "      <th rowspan=\"5\" valign=\"top\">2019-09-20</th>\n",
       "      <th>633841867</th>\n",
       "      <td>0.324344</td>\n",
       "    </tr>\n",
       "    <tr>\n",
       "      <th>634751265</th>\n",
       "      <td>0.355900</td>\n",
       "    </tr>\n",
       "    <tr>\n",
       "      <th>635766194</th>\n",
       "      <td>0.355900</td>\n",
       "    </tr>\n",
       "    <tr>\n",
       "      <th>636344928</th>\n",
       "      <td>0.355900</td>\n",
       "    </tr>\n",
       "    <tr>\n",
       "      <th>637117468</th>\n",
       "      <td>0.355900</td>\n",
       "    </tr>\n",
       "  </tbody>\n",
       "</table>\n",
       "<p>627908 rows × 1 columns</p>\n",
       "</div>"
      ],
      "text/plain": [
       "                          g__12m_binary\n",
       "date       tradingitemid               \n",
       "2016-01-01 2585893             0.594752\n",
       "           2585895             0.564853\n",
       "           2586016             0.621625\n",
       "           2586068             0.442497\n",
       "           2586084             0.564853\n",
       "...                                 ...\n",
       "2019-09-20 633841867           0.324344\n",
       "           634751265           0.355900\n",
       "           635766194           0.355900\n",
       "           636344928           0.355900\n",
       "           637117468           0.355900\n",
       "\n",
       "[627908 rows x 1 columns]"
      ]
     },
     "execution_count": 66,
     "metadata": {},
     "output_type": "execute_result"
    }
   ],
   "source": [
    "test_xgb_submit"
   ]
  },
  {
   "cell_type": "code",
   "execution_count": 67,
   "id": "architectural-jamaica",
   "metadata": {},
   "outputs": [],
   "source": [
    "test_xgb_submit.to_pickle(data_path / \"test_xgb_submit_logloss.pkl\")"
   ]
  },
  {
   "cell_type": "markdown",
   "id": "female-discovery",
   "metadata": {},
   "source": [
    "#### save-read check"
   ]
  },
  {
   "cell_type": "code",
   "execution_count": 68,
   "id": "novel-palestinian",
   "metadata": {},
   "outputs": [],
   "source": [
    "test_xgb_submit_ = pd.read_pickle(data_path / \"test_xgb_submit_logloss.pkl\")\n",
    "assert (test_xgb_submit_ == test_xgb_submit).all().item()"
   ]
  },
  {
   "cell_type": "code",
   "execution_count": 70,
   "id": "later-prescription",
   "metadata": {},
   "outputs": [],
   "source": [
    "# example_predictions"
   ]
  },
  {
   "cell_type": "code",
   "execution_count": null,
   "id": "hindu-forest",
   "metadata": {},
   "outputs": [],
   "source": []
  }
 ],
 "metadata": {
  "kernelspec": {
   "display_name": "Python 3",
   "language": "python",
   "name": "python3"
  },
  "language_info": {
   "codemirror_mode": {
    "name": "ipython",
    "version": 3
   },
   "file_extension": ".py",
   "mimetype": "text/x-python",
   "name": "python",
   "nbconvert_exporter": "python",
   "pygments_lexer": "ipython3",
   "version": "3.8.6"
  }
 },
 "nbformat": 4,
 "nbformat_minor": 5
}
